{
 "cells": [
  {
   "cell_type": "code",
   "execution_count": 1,
   "metadata": {},
   "outputs": [],
   "source": [
    "import numpy as np\n",
    "import matplotlib.pyplot as plt\n",
    "import pandas as pd\n",
    "import os\n",
    "import seaborn as sns\n",
    "from util import util\n",
    "from BD.sqlite import BD\n",
    "from Problem.SCP.problem import SCP"
   ]
  },
  {
   "cell_type": "code",
   "execution_count": 2,
   "metadata": {},
   "outputs": [
    {
     "name": "stdout",
     "output_type": "stream",
     "text": [
      "Chequeo de cobertura: 1\n"
     ]
    }
   ],
   "source": [
    "# def iterarAnaconda(iter, columns, poblacion, Best): # elimine maxIter\n",
    "\n",
    "iter=10\n",
    "columns=15\n",
    "pop=200\n",
    "\n",
    "instance = SCP('scp41')\n",
    "\n",
    "poblacion = np.random.randint(low=0, high=2, size = (pop, instance.getColumns()))\n",
    "\n",
    "N = len(poblacion)\n",
    "m = columns\n",
    "lb = 0\n",
    "ub = m # cambie limiter superior de 1 a 2\n",
    "\n",
    "r = np.random.uniform(0, 1, (N, m))\n",
    "I = np.random.choice([1, 2], (N, m))"
   ]
  },
  {
   "cell_type": "code",
   "execution_count": 3,
   "metadata": {},
   "outputs": [],
   "source": [
    "# Genero un vector donde almacenaré los fitness de cada individuo\n",
    "fitness = np.zeros(pop)\n",
    "\n",
    "# Genero un vetor dedonde tendré mis soluciones rankeadas\n",
    "solutionsRanking = np.zeros(pop)\n",
    "\n",
    "# calculo de factibilidad de cada individuo y calculo del fitness inicial\n",
    "for i in range(poblacion.__len__()):\n",
    "    flag, aux = instance.factibilityTest(poblacion[i])\n",
    "           \n",
    "\n",
    "    fitness[i] = instance.fitness(poblacion[i])\n",
    "    \n",
    "solutionsRanking = np.argsort(fitness) # rankings de los mejores fitnes\n",
    "bestRowAux = solutionsRanking[0]\n",
    "# DETERMINO MI MEJOR SOLUCION Y LA GUARDO \n",
    "Best = poblacion[bestRowAux].copy()\n",
    "BestFitness = fitness[bestRowAux]\n",
    "\n",
    "# PARA MFO\n",
    "BestFitnessArray = fitness[solutionsRanking] \n",
    "bestSolutions = poblacion[solutionsRanking]"
   ]
  },
  {
   "cell_type": "code",
   "execution_count": 11,
   "metadata": {},
   "outputs": [
    {
     "data": {
      "text/plain": [
       "200"
      ]
     },
     "execution_count": 11,
     "metadata": {},
     "output_type": "execute_result"
    }
   ],
   "source": [
    "len(PC_i)"
   ]
  },
  {
   "cell_type": "code",
   "execution_count": 12,
   "metadata": {},
   "outputs": [
    {
     "data": {
      "text/plain": [
       "200"
      ]
     },
     "execution_count": 12,
     "metadata": {},
     "output_type": "execute_result"
    }
   ],
   "source": [
    "len(CFF_i)"
   ]
  },
  {
   "cell_type": "code",
   "execution_count": 13,
   "metadata": {},
   "outputs": [
    {
     "data": {
      "text/plain": [
       "-0.0"
      ]
     },
     "execution_count": 13,
     "metadata": {},
     "output_type": "execute_result"
    }
   ],
   "source": [
    "PC_i_j"
   ]
  },
  {
   "cell_type": "code",
   "execution_count": 169,
   "metadata": {},
   "outputs": [],
   "source": [
    "\n",
    "import warnings\n",
    "\n",
    "warnings.simplefilter(\"ignore\", RuntimeWarning)\n",
    "\n",
    "import numpy as np\n",
    "import random\n",
    "\n",
    "\n",
    "import numpy as np\n",
    "\n",
    "N = len(poblacion)\n",
    "m = columns\n",
    "lb = 0\n",
    "ub = 1\n",
    "\n",
    "r = np.random.uniform(0, 1, (N, m))\n",
    "I = np.random.choice([1, 2], (N, m))\n",
    "\n",
    "CFL_i = bestSolutions\n",
    "CFF_i = BestFitnessArray\n",
    "CFF_i_max =  max(CFF_i) \n",
    "\n",
    "\n",
    "for i in range(N):\n",
    "    \n",
    "    PC_i=[]\n",
    "    C_i=[]\n",
    "    C_i.append(0)\n",
    "    \n",
    "    for j in range(0,len(CFF_i)):\n",
    "        \n",
    "        deno=0\n",
    "\n",
    "        for n in range(0,j):\n",
    "            deno= deno+(CFF_i[n] - CFF_i_max) # denominador\n",
    "\n",
    "        if deno == 0:\n",
    "            PC_i_j=0\n",
    "            PC_i.append(PC_i_j)\n",
    "        else:\n",
    "            PC_i_j = (CFF_i[j] - CFF_i_max) / deno\n",
    "            PC_i.append(PC_i_j)\n",
    "\n",
    "        if j==0:\n",
    "            C_i_j= PC_i[j] + 0\n",
    "            C_i.append(C_i_j)\n",
    "        else:\n",
    "            C_i_j= PC_i[j] + C_i[j-1]\n",
    "            C_i.append(C_i_j)\n",
    "\n"
   ]
  },
  {
   "cell_type": "code",
   "execution_count": 175,
   "metadata": {},
   "outputs": [
    {
     "data": {
      "text/plain": [
       "0.8672354948805461"
      ]
     },
     "execution_count": 175,
     "metadata": {},
     "output_type": "execute_result"
    }
   ],
   "source": [
    "PC_i[1]- C_i[0]\n"
   ]
  },
  {
   "cell_type": "code",
   "execution_count": 40,
   "metadata": {},
   "outputs": [
    {
     "ename": "ValueError",
     "evalue": "operands could not be broadcast together with shapes (200,15) (1000,) ",
     "output_type": "error",
     "traceback": [
      "\u001b[1;31m---------------------------------------------------------------------------\u001b[0m",
      "\u001b[1;31mValueError\u001b[0m                                Traceback (most recent call last)",
      "Cell \u001b[1;32mIn[40], line 3\u001b[0m\n\u001b[0;32m      1\u001b[0m i\u001b[39m=\u001b[39m\u001b[39m0\u001b[39m\n\u001b[0;32m      2\u001b[0m \u001b[39m# poblacion[i] + \u001b[39;00m\n\u001b[1;32m----> 3\u001b[0m I\u001b[39m*\u001b[39;49mpoblacion[i]\n\u001b[0;32m      4\u001b[0m \u001b[39m# r[i] * (SF_i - I[i] * poblacion[i])\u001b[39;00m\n\u001b[0;32m      5\u001b[0m \u001b[39m# SF_i\u001b[39;00m\n",
      "\u001b[1;31mValueError\u001b[0m: operands could not be broadcast together with shapes (200,15) (1000,) "
     ]
    }
   ],
   "source": [
    "i=0\n",
    "# poblacion[i] + \n",
    "I*poblacion[i]\n",
    "# r[i] * (SF_i - I[i] * poblacion[i])\n",
    "# SF_i"
   ]
  },
  {
   "cell_type": "code",
   "execution_count": 3,
   "metadata": {},
   "outputs": [],
   "source": [
    "import sqlite3\n",
    "\n",
    "con = sqlite3.connect(\"./BD/resultados_scp.db\")"
   ]
  },
  {
   "cell_type": "code",
   "execution_count": 4,
   "metadata": {},
   "outputs": [],
   "source": [
    "instancia='scp63'"
   ]
  },
  {
   "cell_type": "code",
   "execution_count": 35,
   "metadata": {},
   "outputs": [],
   "source": [
    "dirResultado = './Resultados/'\n",
    "archivoResumenFitness = open(f'{dirResultado}resumen_fitness_SCP.csv', 'w')\n",
    "archivoResumenTimes = open(f'{dirResultado}resumen_times_SCP.csv', 'w')\n",
    "archivoResumenPercentage = open(f'{dirResultado}resumen_percentage_SCP.csv', 'w')\n",
    "\n",
    "archivoResumenFitness.write(\"instance,best,avg. fitness, std fitness,best,avg. fitness, std fitness,best,avg. fitness, std fitness, best,avg. fitness, std fitness\\n\")\n",
    "archivoResumenTimes.write(\"instance, min time (s), avg. time (s), std time (s), min time (s), avg. time (s), std time (s), min time (s), avg. time (s), std time (s), min time (s), avg. time (s), std time (s)\\n\")\n",
    "archivoResumenPercentage.write(\"instance, avg. XPL%, avg. XPT%, avg. XPL%, avg. XPT%, avg. XPL%, avg. XPT%, avg. XPL%, avg. XPT%\\n\")\n",
    "\n",
    "graficos = True\n",
    "\n",
    "bd = BD()\n",
    "res = con.execute(\"select DISTINCT id_instancia, nombre from instancias i where nombre in ('scp41')\")\n",
    "instancias = res.fetchall()"
   ]
  },
  {
   "cell_type": "code",
   "execution_count": 36,
   "metadata": {},
   "outputs": [
    {
     "data": {
      "text/plain": [
       "[(5484, 'scp41')]"
      ]
     },
     "execution_count": 36,
     "metadata": {},
     "output_type": "execute_result"
    }
   ],
   "source": [
    "instancias"
   ]
  },
  {
   "cell_type": "code",
   "execution_count": 6,
   "metadata": {},
   "outputs": [],
   "source": [
    "instancias=bd.obtenerInstancias(f'\"{instancia}\"')"
   ]
  },
  {
   "cell_type": "code",
   "execution_count": 24,
   "metadata": {},
   "outputs": [
    {
     "name": "stdout",
     "output_type": "stream",
     "text": [
      "id_instancia: 5397\n",
      "tipo_problema: BEN\n",
      "nombre: F1\n",
      "optimo: 0.0\n",
      "param: lb:-100,ub:100,dim:30\n"
     ]
    }
   ],
   "source": [
    "id=instancias[0][0]\n",
    "\n",
    "res = con.execute(f\"SELECT * FROM instancias where id_instancia = {id}\")\n",
    "resultados = res.fetchall()\n",
    "\n",
    "# Obtén los nombres de las columnas del cursor\n",
    "nombres_columnas = [column[0] for column in res.description]\n",
    "\n",
    "# print(\"Nombres de las columnas:\", nombres_columnas)\n",
    "\n",
    "# Ahora puedes imprimir los resultados junto con los nombres de las columnas\n",
    "for fila in resultados:\n",
    "    for columna, valor in zip(nombres_columnas, fila):\n",
    "        print(f\"{columna}: {valor}\")"
   ]
  },
  {
   "cell_type": "code",
   "execution_count": 8,
   "metadata": {},
   "outputs": [],
   "source": [
    "inst = instancias[0][1]\n",
    "# mh = 'GAO'"
   ]
  },
  {
   "cell_type": "code",
   "execution_count": 9,
   "metadata": {},
   "outputs": [
    {
     "data": {
      "text/plain": [
       "'scp63'"
      ]
     },
     "execution_count": 9,
     "metadata": {},
     "output_type": "execute_result"
    }
   ],
   "source": [
    "inst"
   ]
  },
  {
   "cell_type": "code",
   "execution_count": 10,
   "metadata": {},
   "outputs": [],
   "source": [
    "res=con.execute(f''' \n",
    "    select i.nombre, i.archivo \n",
    "    from experimentos e \n",
    "    inner join iteraciones i on e.id_experimento  = i.fk_id_experimento \n",
    "    inner join instancias i2 on e.fk_id_instancia = i2.id_instancia \n",
    "    where i2.nombre  = '{inst}' \n",
    "    order by i2.nombre desc , e.MH desc   \n",
    "    ''')\n",
    "        \n",
    "data = res.fetchall()"
   ]
  },
  {
   "cell_type": "code",
   "execution_count": 11,
   "metadata": {},
   "outputs": [
    {
     "data": {
      "text/plain": [
       "[('GWO_scp63',\n",
       "  b'iter,fitness,time,XPL,XPT,DIV\\r\\n0,23163.0,0.051,100.0,0.0,0.484\\r\\n1,9656.0,0.358,45.87,54.13,0.222\\r\\n2,3611.0,0.316,19.21,80.79,0.093\\r\\n3,1250.0,0.335,9.71,90.29,0.047\\r\\n4,438.0,0.328,4.96,95.04,0.024\\r\\n5,175.0,0.335,1.65,98.35,0.008\\r\\n6,162.0,0.328,1.45,98.55,0.007\\r\\n7,160.0,0.335,1.24,98.76,0.006\\r\\n8,160.0,0.338,1.24,98.76,0.006\\r\\n9,160.0,0.336,1.24,98.76,0.006\\r\\n10,160.0,0.34,1.24,98.76,0.006\\r\\n11,160.0,0.345,1.03,98.97,0.005\\r\\n12,160.0,0.341,1.45,98.55,0.007\\r\\n13,160.0,0.346,1.24,98.76,0.006\\r\\n14,160.0,0.347,1.03,98.97,0.005\\r\\n15,160.0,0.353,1.24,98.76,0.006\\r\\n16,160.0,0.361,1.24,98.76,0.006\\r\\n17,160.0,0.35,1.24,98.76,0.006\\r\\n18,160.0,0.349,1.24,98.76,0.006\\r\\n19,160.0,0.351,1.24,98.76,0.006\\r\\n20,160.0,0.367,1.24,98.76,0.006\\r\\n21,160.0,0.36,1.24,98.76,0.006\\r\\n22,160.0,0.352,1.24,98.76,0.006\\r\\n23,160.0,0.356,1.03,98.97,0.005\\r\\n24,160.0,0.352,1.03,98.97,0.005\\r\\n25,160.0,0.364,1.24,98.76,0.006\\r\\n26,160.0,0.372,1.24,98.76,0.006\\r\\n27,160.0,0.362,1.24,98.76,0.006\\r\\n28,160.0,0.373,1.24,98.76,0.006\\r\\n29,160.0,0.363,1.24,98.76,0.006\\r\\n30,160.0,0.383,1.24,98.76,0.006\\r\\n31,160.0,0.365,1.03,98.97,0.005\\r\\n32,160.0,0.364,1.24,98.76,0.006\\r\\n33,160.0,0.366,1.03,98.97,0.005\\r\\n34,160.0,0.367,1.03,98.97,0.005\\r\\n35,160.0,0.366,1.03,98.97,0.005\\r\\n36,160.0,0.383,1.24,98.76,0.006\\r\\n37,160.0,0.365,1.24,98.76,0.006\\r\\n38,160.0,0.368,1.24,98.76,0.006\\r\\n39,160.0,0.379,1.24,98.76,0.006\\r\\n40,160.0,0.37,1.03,98.97,0.005\\r\\n41,160.0,0.366,1.24,98.76,0.006\\r\\n42,160.0,0.373,1.24,98.76,0.006\\r\\n43,160.0,0.381,1.24,98.76,0.006\\r\\n44,160.0,0.383,1.24,98.76,0.006\\r\\n45,160.0,0.369,1.24,98.76,0.006\\r\\n46,160.0,0.417,1.24,98.76,0.006\\r\\n47,160.0,0.371,1.24,98.76,0.006\\r\\n48,160.0,0.381,1.24,98.76,0.006\\r\\n49,160.0,0.367,1.24,98.76,0.006\\r\\n50,160.0,0.4,1.24,98.76,0.006\\r\\n')]"
      ]
     },
     "execution_count": 11,
     "metadata": {},
     "output_type": "execute_result"
    }
   ],
   "source": [
    "data"
   ]
  },
  {
   "cell_type": "code",
   "execution_count": 12,
   "metadata": {},
   "outputs": [
    {
     "ename": "NameError",
     "evalue": "name 'blob' is not defined",
     "output_type": "error",
     "traceback": [
      "\u001b[1;31m---------------------------------------------------------------------------\u001b[0m",
      "\u001b[1;31mNameError\u001b[0m                                 Traceback (most recent call last)",
      "Cell \u001b[1;32mIn[12], line 1\u001b[0m\n\u001b[1;32m----> 1\u001b[0m blob[\u001b[39m0\u001b[39m][\u001b[39m0\u001b[39m]\n",
      "\u001b[1;31mNameError\u001b[0m: name 'blob' is not defined"
     ]
    }
   ],
   "source": [
    "blob[0][0]"
   ]
  },
  {
   "cell_type": "code",
   "execution_count": 14,
   "metadata": {},
   "outputs": [
    {
     "name": "stdout",
     "output_type": "stream",
     "text": [
      "(5278, 'scp63')\n",
      "Grafico de exploracion y explotacion realizado para GWO, problema: scp63, corrida: 1 \n",
      "------------------------------------------------------------------------------------------------------------\n"
     ]
    },
    {
     "ename": "ValueError",
     "evalue": "x and y must have same first dimension, but have shapes (51,) and (0,)",
     "output_type": "error",
     "traceback": [
      "\u001b[1;31m---------------------------------------------------------------------------\u001b[0m",
      "\u001b[1;31mValueError\u001b[0m                                Traceback (most recent call last)",
      "Cell \u001b[1;32mIn[14], line 195\u001b[0m\n\u001b[0;32m    191\u001b[0m figPER, axPER \u001b[39m=\u001b[39m plt\u001b[39m.\u001b[39msubplots()\n\u001b[0;32m    192\u001b[0m \u001b[39m# axPER.plot(iteraciones, bestFitnessGWO, color=\"r\", label=\"GWO\")\u001b[39;00m\n\u001b[0;32m    193\u001b[0m \u001b[39m# axPER.plot(iteraciones, bestFitnessSCA, color=\"b\", label=\"SCA\")\u001b[39;00m\n\u001b[0;32m    194\u001b[0m \u001b[39m# axPER.plot(iteraciones, bestFitnessPSA, color=\"g\", label=\"PSA\")\u001b[39;00m\n\u001b[1;32m--> 195\u001b[0m axPER\u001b[39m.\u001b[39;49mplot(iteraciones, bestFitnessGAO, color\u001b[39m=\u001b[39;49m\u001b[39m\"\u001b[39;49m\u001b[39mb\u001b[39;49m\u001b[39m\"\u001b[39;49m, label\u001b[39m=\u001b[39;49m\u001b[39m\"\u001b[39;49m\u001b[39mGAO\u001b[39;49m\u001b[39m\"\u001b[39;49m)\n\u001b[0;32m    196\u001b[0m axPER\u001b[39m.\u001b[39mset_title(\u001b[39mf\u001b[39m\u001b[39m'\u001b[39m\u001b[39mCoverage \u001b[39m\u001b[39m\\n\u001b[39;00m\u001b[39m \u001b[39m\u001b[39m{\u001b[39;00mproblem\u001b[39m}\u001b[39;00m\u001b[39m'\u001b[39m)\n\u001b[0;32m    197\u001b[0m axPER\u001b[39m.\u001b[39mset_ylabel(\u001b[39m\"\u001b[39m\u001b[39mFitness\u001b[39m\u001b[39m\"\u001b[39m)\n",
      "File \u001b[1;32m~\\AppData\\Local\\Packages\\PythonSoftwareFoundation.Python.3.11_qbz5n2kfra8p0\\LocalCache\\local-packages\\Python311\\site-packages\\matplotlib\\axes\\_axes.py:1688\u001b[0m, in \u001b[0;36mAxes.plot\u001b[1;34m(self, scalex, scaley, data, *args, **kwargs)\u001b[0m\n\u001b[0;32m   1445\u001b[0m \u001b[39m\u001b[39m\u001b[39m\"\"\"\u001b[39;00m\n\u001b[0;32m   1446\u001b[0m \u001b[39mPlot y versus x as lines and/or markers.\u001b[39;00m\n\u001b[0;32m   1447\u001b[0m \n\u001b[1;32m   (...)\u001b[0m\n\u001b[0;32m   1685\u001b[0m \u001b[39m(``'green'``) or hex strings (``'#008000'``).\u001b[39;00m\n\u001b[0;32m   1686\u001b[0m \u001b[39m\"\"\"\u001b[39;00m\n\u001b[0;32m   1687\u001b[0m kwargs \u001b[39m=\u001b[39m cbook\u001b[39m.\u001b[39mnormalize_kwargs(kwargs, mlines\u001b[39m.\u001b[39mLine2D)\n\u001b[1;32m-> 1688\u001b[0m lines \u001b[39m=\u001b[39m [\u001b[39m*\u001b[39m\u001b[39mself\u001b[39m\u001b[39m.\u001b[39m_get_lines(\u001b[39m*\u001b[39margs, data\u001b[39m=\u001b[39mdata, \u001b[39m*\u001b[39m\u001b[39m*\u001b[39mkwargs)]\n\u001b[0;32m   1689\u001b[0m \u001b[39mfor\u001b[39;00m line \u001b[39min\u001b[39;00m lines:\n\u001b[0;32m   1690\u001b[0m     \u001b[39mself\u001b[39m\u001b[39m.\u001b[39madd_line(line)\n",
      "File \u001b[1;32m~\\AppData\\Local\\Packages\\PythonSoftwareFoundation.Python.3.11_qbz5n2kfra8p0\\LocalCache\\local-packages\\Python311\\site-packages\\matplotlib\\axes\\_base.py:311\u001b[0m, in \u001b[0;36m_process_plot_var_args.__call__\u001b[1;34m(self, data, *args, **kwargs)\u001b[0m\n\u001b[0;32m    309\u001b[0m     this \u001b[39m+\u001b[39m\u001b[39m=\u001b[39m args[\u001b[39m0\u001b[39m],\n\u001b[0;32m    310\u001b[0m     args \u001b[39m=\u001b[39m args[\u001b[39m1\u001b[39m:]\n\u001b[1;32m--> 311\u001b[0m \u001b[39myield from\u001b[39;00m \u001b[39mself\u001b[39;49m\u001b[39m.\u001b[39;49m_plot_args(\n\u001b[0;32m    312\u001b[0m     this, kwargs, ambiguous_fmt_datakey\u001b[39m=\u001b[39;49mambiguous_fmt_datakey)\n",
      "File \u001b[1;32m~\\AppData\\Local\\Packages\\PythonSoftwareFoundation.Python.3.11_qbz5n2kfra8p0\\LocalCache\\local-packages\\Python311\\site-packages\\matplotlib\\axes\\_base.py:504\u001b[0m, in \u001b[0;36m_process_plot_var_args._plot_args\u001b[1;34m(self, tup, kwargs, return_kwargs, ambiguous_fmt_datakey)\u001b[0m\n\u001b[0;32m    501\u001b[0m     \u001b[39mself\u001b[39m\u001b[39m.\u001b[39maxes\u001b[39m.\u001b[39myaxis\u001b[39m.\u001b[39mupdate_units(y)\n\u001b[0;32m    503\u001b[0m \u001b[39mif\u001b[39;00m x\u001b[39m.\u001b[39mshape[\u001b[39m0\u001b[39m] \u001b[39m!=\u001b[39m y\u001b[39m.\u001b[39mshape[\u001b[39m0\u001b[39m]:\n\u001b[1;32m--> 504\u001b[0m     \u001b[39mraise\u001b[39;00m \u001b[39mValueError\u001b[39;00m(\u001b[39mf\u001b[39m\u001b[39m\"\u001b[39m\u001b[39mx and y must have same first dimension, but \u001b[39m\u001b[39m\"\u001b[39m\n\u001b[0;32m    505\u001b[0m                      \u001b[39mf\u001b[39m\u001b[39m\"\u001b[39m\u001b[39mhave shapes \u001b[39m\u001b[39m{\u001b[39;00mx\u001b[39m.\u001b[39mshape\u001b[39m}\u001b[39;00m\u001b[39m and \u001b[39m\u001b[39m{\u001b[39;00my\u001b[39m.\u001b[39mshape\u001b[39m}\u001b[39;00m\u001b[39m\"\u001b[39m)\n\u001b[0;32m    506\u001b[0m \u001b[39mif\u001b[39;00m x\u001b[39m.\u001b[39mndim \u001b[39m>\u001b[39m \u001b[39m2\u001b[39m \u001b[39mor\u001b[39;00m y\u001b[39m.\u001b[39mndim \u001b[39m>\u001b[39m \u001b[39m2\u001b[39m:\n\u001b[0;32m    507\u001b[0m     \u001b[39mraise\u001b[39;00m \u001b[39mValueError\u001b[39;00m(\u001b[39mf\u001b[39m\u001b[39m\"\u001b[39m\u001b[39mx and y can be no greater than 2D, but have \u001b[39m\u001b[39m\"\u001b[39m\n\u001b[0;32m    508\u001b[0m                      \u001b[39mf\u001b[39m\u001b[39m\"\u001b[39m\u001b[39mshapes \u001b[39m\u001b[39m{\u001b[39;00mx\u001b[39m.\u001b[39mshape\u001b[39m}\u001b[39;00m\u001b[39m and \u001b[39m\u001b[39m{\u001b[39;00my\u001b[39m.\u001b[39mshape\u001b[39m}\u001b[39;00m\u001b[39m\"\u001b[39m)\n",
      "\u001b[1;31mValueError\u001b[0m: x and y must have same first dimension, but have shapes (51,) and (0,)"
     ]
    },
    {
     "data": {
      "image/png": "[encoded data removed]",
      "text/plain": [
       "<Figure size 640x480 with 1 Axes>"
      ]
     },
     "metadata": {},
     "output_type": "display_data"
    }
   ],
   "source": [
    "for instancia in instancias:\n",
    "    print(instancia)\n",
    "    \n",
    "    res=con.execute(f''' \n",
    "    select i.nombre, i.archivo \n",
    "    from experimentos e \n",
    "    inner join iteraciones i on e.id_experimento  = i.fk_id_experimento \n",
    "    inner join instancias i2 on e.fk_id_instancia = i2.id_instancia \n",
    "    where i2.nombre  = '{inst}' \n",
    "    order by i2.nombre desc , e.MH desc   \n",
    "    ''')\n",
    "        \n",
    "    blob = res.fetchall()\n",
    "    # blob = bd.obtenerArchivos(instancia[0])\n",
    "    corrida = 1\n",
    "    \n",
    "    archivoFitness = open(f'{dirResultado}fitness.csv', 'w')\n",
    "    archivoFitness.write('MH,FITNESS\\n')\n",
    "\n",
    "    fitnessSCA = [] \n",
    "    fitnessGWO = [] \n",
    "    fitnessGAO = [] \n",
    "    fitnessPSA = []\n",
    "\n",
    "    timeSCA = []\n",
    "    timeGWO = []\n",
    "    timeGAO = []\n",
    "    timePSA = []\n",
    "\n",
    "    xplSCA = [] \n",
    "    xplGWO = [] \n",
    "    xplGAO = [] \n",
    "    xplPSA = []\n",
    "\n",
    "    xptSCA = []\n",
    "    xptGWO = []\n",
    "    xptGAO = []\n",
    "    xptPSA = []\n",
    "    \n",
    "    bestFitnessSCA = []\n",
    "    bestFitnessGWO = []\n",
    "    bestFitnessGAO = []\n",
    "    bestFitnessPSA = []\n",
    "\n",
    "    bestTimeSCA = []\n",
    "    bestTimeGWO = []\n",
    "    bestTimeGAO = []\n",
    "    bestTimePSA = []\n",
    "    \n",
    "    for d in blob:\n",
    "        \n",
    "        nombreArchivo = d[0]\n",
    "        archivo = d[1]\n",
    "        \n",
    "        if isinstance(archivo, str):\n",
    "            archivo = archivo.encode('utf-8')\n",
    "\n",
    "        direccionDestiono = './Resultados/Transitorio/'+nombreArchivo+'.csv'\n",
    "        # print(\"-------------------------------------------------------------------------------\")\n",
    "        util.writeTofile(archivo,direccionDestiono)\n",
    "        \n",
    "        data = pd.read_csv(direccionDestiono)\n",
    "        \n",
    "        mh = nombreArchivo.split('_')[0]\n",
    "        problem = nombreArchivo.split('_')[1]\n",
    "\n",
    "        iteraciones = data['iter']\n",
    "        fitness     = data['fitness']\n",
    "        time        = data['time']\n",
    "        xpl         = data['XPL']\n",
    "        xpt         = data['XPT']\n",
    "        \n",
    "        if mh == 'PSA':\n",
    "            fitnessPSA.append(np.min(fitness))\n",
    "            timePSA.append(np.round(np.sum(time),3))\n",
    "            xplPSA.append(np.round(np.mean(xpl), decimals=2))\n",
    "            xptPSA.append(np.round(np.mean(xpt), decimals=2))\n",
    "            archivoFitness.write(f'PSA,{str(np.min(fitness))}\\n')\n",
    "        if mh == 'SCA':\n",
    "            fitnessSCA.append(np.min(fitness))\n",
    "            timeSCA.append(np.round(np.sum(time),3))\n",
    "            xplSCA.append(np.round(np.mean(xpl), decimals=2))\n",
    "            xptSCA.append(np.round(np.mean(xpt), decimals=2))\n",
    "            archivoFitness.write(f'SCA,{str(np.min(fitness))}\\n')\n",
    "        if mh == 'GWO':\n",
    "            fitnessGWO.append(np.min(fitness))\n",
    "            timeGWO.append(np.round(np.sum(time),3))\n",
    "            xplGWO.append(np.round(np.mean(xpl), decimals=2))\n",
    "            xptGWO.append(np.round(np.mean(xpt), decimals=2))\n",
    "            archivoFitness.write(f'GWO,{str(np.min(fitness))}\\n')\n",
    "\n",
    "        if mh == 'GAO':\n",
    "            fitnessGAO.append(np.min(fitness))\n",
    "            timeGAO.append(np.round(np.sum(time),3))\n",
    "            xplGAO.append(np.round(np.mean(xpl), decimals=2))\n",
    "            xptGAO.append(np.round(np.mean(xpt), decimals=2))\n",
    "            archivoFitness.write(f'GAO,{str(np.min(fitness))}\\n')\n",
    "            print('GAO')\n",
    "            \n",
    "        if graficos:\n",
    "\n",
    "            # fig , ax = plt.subplots()\n",
    "            # ax.plot(iteraciones,fitness)\n",
    "            # ax.set_title(f'Convergence {mh} \\n {problem} run {corrida}')\n",
    "            # ax.set_ylabel(\"Fitness\")\n",
    "            # ax.set_xlabel(\"Iteration\")\n",
    "            # plt.savefig(f'{dirResultado}/Graficos/Coverange_{mh}_{problem}_{corrida}.pdf')\n",
    "            # plt.close('all')\n",
    "            # print(f'Grafico de covergencia realizado {mh} {problem} ')\n",
    "            \n",
    "            figPER, axPER = plt.subplots()\n",
    "            axPER.plot(iteraciones, xpl, color=\"r\", label=r\"$\\overline{XPL}$\"+\": \"+str(np.round(np.mean(xpl), decimals=2))+\"%\")\n",
    "            axPER.plot(iteraciones, xpt, color=\"b\", label=r\"$\\overline{XPT}$\"+\": \"+str(np.round(np.mean(xpt), decimals=2))+\"%\")\n",
    "            axPER.set_title(f'XPL% - XPT% {mh} \\n {problem} run {corrida}')\n",
    "            axPER.set_ylabel(\"Percentage\")\n",
    "            axPER.set_xlabel(\"Iteration\")\n",
    "            axPER.legend(loc = 'upper right')\n",
    "            plt.savefig(f'{dirResultado}Graficos/Percentage_{mh}_{problem}_{corrida}.pdf')\n",
    "            plt.close('all')\n",
    "            print(f'Grafico de exploracion y explotacion realizado para {mh}, problema: {problem}, corrida: {corrida} ')\n",
    "        \n",
    "        corrida +=1\n",
    "        \n",
    "        if corrida == 32:\n",
    "            corrida = 1\n",
    "        \n",
    "        os.remove('./Resultados/Transitorio/'+nombreArchivo+'.csv')\n",
    "        \n",
    "    #archivoResumenFitness.write(f'''{problem},{np.min(fitnessGWO)},{np.round(np.average(fitnessGWO),3)},{np.round(np.std(fitnessGWO),3)},{np.min(fitnessPSA)},{np.round(np.average(fitnessPSA),3)},{np.round(np.std(fitnessPSA),3)},{np.min(fitnessSCA)},{np.round(np.average(fitnessSCA),3)},{np.round(np.std(fitnessSCA),3)},{np.min(fitnessGAO)},{np.round(np.average(fitnessGAO),3)},{np.round(np.std(fitnessGAO),3)} \\n''')\n",
    "    #archivoResumenTimes.write(f'''{problem},{np.min(timeGWO)},{np.round(np.average(timeGWO),3)},{np.round(np.std(timeGWO),3)},{np.min(timePSA)},{np.round(np.average(timePSA),3)},{np.round(np.std(timePSA),3)},{np.min(timeSCA)},{np.round(np.average(timeSCA),3)},{np.round(np.std(timeSCA),3)},{np.min(timeGAO)},{np.round(np.average(timeGAO),3)},{np.round(np.std(timeGAO),3)} \\n''')\n",
    "    #archivoResumenPercentage.write(f'''{problem},{np.round(np.average(xplGWO),3)},{np.round(np.average(xptGWO),3)},{np.round(np.average(xplPSA),3)},{np.round(np.average(xptPSA),3)},{np.round(np.average(xplSCA),3)},{np.round(np.average(xptSCA),3)},{np.round(np.average(xplGAO),3)},{np.round(np.average(xptGAO),3)} \\n''')\n",
    "\n",
    "    archivoResumenFitness.write(f'''{problem},{np.min(fitnessGAO)},{np.round(np.average(fitnessGAO),3)},{np.round(np.std(fitnessGAO),3)} \\n''')\n",
    "    archivoResumenTimes.write(f'''{problem},{np.min(timeGAO)},{np.round(np.average(timeGAO),3)},{np.round(np.std(timeGAO),3)} \\n''')\n",
    "    archivoResumenPercentage.write(f'''{problem},{np.round(np.average(xplGAO),3)},{np.round(np.average(xptGAO),3)} \\n''')\n",
    "\n",
    "\n",
    "    res = con.execute(f'''             \n",
    "            select e.id_experimento , e.MH , E.ML, i2.nombre  , i.nombre , i.archivo , MIN(r.fitness)  \n",
    "            from resultados r \n",
    "            inner join experimentos e on r.fk_id_experimento = e.id_experimento\n",
    "            inner join iteraciones i on i.fk_id_experimento = e.id_experimento\n",
    "            inner join instancias i2 on e.fk_id_instancia = i2.id_instancia \n",
    "            where i2.nombre  = '{inst}' and e.ML = ''\n",
    "            group by e.MH , i2.nombre\n",
    "                       \n",
    "        ''')\n",
    "        \n",
    "    blob2 = res.fetchall()\n",
    "\n",
    "    # blob = bd.obtenerMejoresArchivos(instancia[0])\n",
    "    \n",
    "    for d in blob2:\n",
    "\n",
    "        nombreArchivo = d[4]\n",
    "        archivo = d[5]\n",
    "\n",
    "        if isinstance(archivo, str):\n",
    "            archivo = archivo.encode('utf-8')\n",
    "\n",
    "        direccionDestiono = f'./Resultados/Transitorio/'+nombreArchivo+'.csv'\n",
    "        util.writeTofile(archivo,direccionDestiono)\n",
    "        \n",
    "        data = pd.read_csv(direccionDestiono)\n",
    "        \n",
    "        mh = nombreArchivo.split('_')[0]\n",
    "        problem = nombreArchivo.split('_')[1]\n",
    "\n",
    "        iteraciones = data['iter']\n",
    "        fitness     = data['fitness']\n",
    "        time        = data['time']\n",
    "        xpl         = data['XPL']\n",
    "        xpt         = data['XPT']\n",
    "        \n",
    "        if mh == 'PSA':\n",
    "            bestFitnessPSA      = fitness\n",
    "            bestTimePSA         = time\n",
    "        if mh == 'SCA':\n",
    "            bestFitnessSCA      = fitness\n",
    "            bestTimeSCA         = time\n",
    "        if mh == 'GWO':\n",
    "            bestFitnessGWO      = fitness\n",
    "            bestTimeGWO         = time\n",
    "        if mh == 'GAO':\n",
    "            bestFitnessGAO      = fitness\n",
    "            bestTimeGAO         = time\n",
    "        \n",
    "        os.remove('./Resultados/Transitorio/'+nombreArchivo+'.csv')\n",
    "\n",
    "    print(\"------------------------------------------------------------------------------------------------------------\")\n",
    "    figPER, axPER = plt.subplots()\n",
    "    # axPER.plot(iteraciones, bestFitnessGWO, color=\"r\", label=\"GWO\")\n",
    "    # axPER.plot(iteraciones, bestFitnessSCA, color=\"b\", label=\"SCA\")\n",
    "    # axPER.plot(iteraciones, bestFitnessPSA, color=\"g\", label=\"PSA\")\n",
    "    axPER.plot(iteraciones, bestFitnessGAO, color=\"b\", label=\"GAO\")\n",
    "    axPER.set_title(f'Coverage \\n {problem}')\n",
    "    axPER.set_ylabel(\"Fitness\")\n",
    "    axPER.set_xlabel(\"Iteration\")\n",
    "    axPER.legend(loc = 'upper right')\n",
    "    plt.savefig(f'{dirResultado}Best/fitness_{problem}.pdf')\n",
    "    plt.close('all')\n",
    "    print(f'Grafico de fitness realizado {problem} ')\n",
    "    \n",
    "    figPER, axPER = plt.subplots()\n",
    "    # axPER.plot(iteraciones, bestTimeGWO, color=\"r\", label=\"GWO\")\n",
    "    # axPER.plot(iteraciones, bestTimeSCA, color=\"b\", label=\"SCA\")\n",
    "    # axPER.plot(iteraciones, bestTimePSA, color=\"g\", label=\"PSA\")\n",
    "    axPER.plot(iteraciones, bestTimeGAO, color=\"b\", label=\"GAO\")\n",
    "    axPER.set_title(f'Time (s) \\n {problem}')\n",
    "    axPER.set_ylabel(\"Time (s)\")\n",
    "    axPER.set_xlabel(\"Iteration\")\n",
    "    axPER.legend(loc = 'lower right')\n",
    "    plt.savefig(f'{dirResultado}Best/time_{problem}.pdf')\n",
    "    plt.close('all')\n",
    "    print(f'Grafico de time realizado {problem} ')\n",
    "    \n",
    "    \n",
    "    archivoFitness.close()\n",
    "    \n",
    "    print(\"------------------------------------------------------------------------------------------------------------\")\n",
    "    # ---------------------------------------------------------------------------------------------------------------------------------------------------------------\n",
    "    datos = pd.read_csv(dirResultado+'fitness.csv')\n",
    "    figFitness, axFitness = plt.subplots()\n",
    "    axFitness = sns.boxplot(x='MH', y='FITNESS', data=datos)\n",
    "    axFitness.set_title(f'Fitness \\n{instancia[0]}', loc=\"center\", fontdict={'fontsize': 10, 'fontweight': 'bold', 'color': 'black'})\n",
    "    axFitness.set_ylabel(\"Fitness\")\n",
    "    axFitness.set_xlabel(\"Metaheuristics\")\n",
    "    figFitness.savefig(dirResultado+'boxplot/boxplot_fitness.pdf')\n",
    "    plt.close('all')\n",
    "    print(f'Grafico de boxplot con fitness para la instancia {instancia[0]} realizado con exito')\n",
    "    \n",
    "    figFitness, axFitness = plt.subplots()\n",
    "    axFitness = sns.violinplot(x='MH', y='FITNESS', data=datos, gridsize=50)\n",
    "    axFitness.set_title(f'Fitness \\n{instancia[0]}', loc=\"center\", fontdict={'fontsize': 10, 'fontweight': 'bold', 'color': 'black'})\n",
    "    axFitness.set_ylabel(\"Fitness\")\n",
    "    axFitness.set_xlabel(\"Metaheuristics\")\n",
    "    figFitness.savefig(dirResultado+'violinplot/violinplot_fitness.pdf')\n",
    "    plt.close('all')\n",
    "    print(f'Grafico de violines con fitness para la instancia {instancia[0]} realizado con exito')\n",
    "    \n",
    "    os.remove(dirResultado+'fitness.csv')\n",
    "    \n",
    "    print(\"------------------------------------------------------------------------------------------------------------\")\n",
    "\n",
    "# archivoResumenFitness.close()\n",
    "# archivoResumenTimes.close()\n",
    "# archivoResumenPercentage.close()\n",
    "        "
   ]
  },
  {
   "cell_type": "code",
   "execution_count": 41,
   "metadata": {},
   "outputs": [
    {
     "data": {
      "text/plain": [
       "'GWO_scp63'"
      ]
     },
     "execution_count": 41,
     "metadata": {},
     "output_type": "execute_result"
    }
   ],
   "source": [
    "nombreArchivo"
   ]
  }
 ],
 "metadata": {
  "kernelspec": {
   "display_name": "Python 3",
   "language": "python",
   "name": "python3"
  },
  "language_info": {
   "codemirror_mode": {
    "name": "ipython",
    "version": 3
   },
   "file_extension": ".py",
   "mimetype": "text/x-python",
   "name": "python",
   "nbconvert_exporter": "python",
   "pygments_lexer": "ipython3",
   "version": "3.11.5"
  },
  "orig_nbformat": 4
 },
 "nbformat": 4,
 "nbformat_minor": 2
}
